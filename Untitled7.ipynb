{
  "nbformat": 4,
  "nbformat_minor": 0,
  "metadata": {
    "colab": {
      "provenance": []
    },
    "kernelspec": {
      "name": "python3",
      "display_name": "Python 3"
    },
    "language_info": {
      "name": "python"
    }
  },
  "cells": [
    {
      "cell_type": "code",
      "execution_count": 2,
      "metadata": {
        "colab": {
          "base_uri": "https://localhost:8080/"
        },
        "id": "cO6chr7wDQmr",
        "outputId": "12bf3748-1622-42cc-a7d7-9073d65bba04"
      },
      "outputs": [
        {
          "output_type": "execute_result",
          "data": {
            "text/plain": [
              "['__MACOSX', 'Lung Cancer Dataset']"
            ]
          },
          "metadata": {},
          "execution_count": 2
        }
      ],
      "source": [
        "import zipfile\n",
        "\n",
        "zip_file_path = '/content/Lung Cancer Dataset.zip'\n",
        "\n",
        "extract_dir = '/content/lung_cancer_dataset'\n",
        "with zipfile.ZipFile(zip_file_path, 'r') as zip_ref:\n",
        "    zip_ref.extractall(extract_dir)\n",
        "\n",
        "import os\n",
        "os.listdir(extract_dir)\n"
      ]
    },
    {
      "cell_type": "code",
      "source": [
        "import os\n",
        "\n",
        "\n",
        "extracted_dir = '/content/lung_cancer_dataset/Lung Cancer Dataset'\n",
        "os.listdir(extracted_dir)\n"
      ],
      "metadata": {
        "colab": {
          "base_uri": "https://localhost:8080/"
        },
        "id": "_HBa-gHTD0yi",
        "outputId": "e1b48efc-c881-4a5c-cd18-d1d34e3fc312"
      },
      "execution_count": 3,
      "outputs": [
        {
          "output_type": "execute_result",
          "data": {
            "text/plain": [
              "['.DS_Store', 'Normal cases', 'Bengin cases']"
            ]
          },
          "metadata": {},
          "execution_count": 3
        }
      ]
    },
    {
      "cell_type": "code",
      "source": [
        "input_folder = '/content/lung_cancer_dataset/Lung Cancer Dataset'\n"
      ],
      "metadata": {
        "id": "fpq7uR8kEMau"
      },
      "execution_count": 5,
      "outputs": []
    },
    {
      "cell_type": "code",
      "source": [
        "print(\"Normal folder contents:\", os.listdir(os.path.join(input_folder, 'Normal cases')))\n",
        "print(\"Benign folder contents:\", os.listdir(os.path.join(input_folder, 'Bengin cases')))\n"
      ],
      "metadata": {
        "colab": {
          "base_uri": "https://localhost:8080/"
        },
        "id": "ZPMih7txEP8h",
        "outputId": "0942a1ba-fe69-4fc4-ff42-4f0f841cdaaf"
      },
      "execution_count": 8,
      "outputs": [
        {
          "output_type": "stream",
          "name": "stdout",
          "text": [
            "Normal folder contents: ['Normal case (75).jpg', 'Normal case (212).jpg', 'Normal case (218).jpg', 'Normal case (309).jpg', 'Normal case (314).jpg', 'Normal case (240).jpg', 'Normal case (195).jpg', 'Normal case (313).jpg', 'Normal case (331).jpg', 'Normal case (332).jpg', 'Normal case (84).jpg', 'Normal case (277).jpg', 'Normal case (36).jpg', 'Normal case (320).jpg', 'Normal case (299).jpg', 'Normal case (5).jpg', 'Normal case (376).jpg', 'Normal case (338).jpg', 'Normal case (256).jpg', 'Normal case (90).jpg', 'Normal case (114).jpg', 'Normal case (230).jpg', 'Normal case (361).jpg', 'Normal case (105).jpg', 'Normal case (298).jpg', 'Normal case (377).jpg', 'Normal case (346).jpg', 'Normal case (390).jpg', 'Normal case (227).jpg', 'Normal case (196).jpg', 'Normal case (311).jpg', 'Normal case (66).jpg', 'Normal case (149).jpg', 'Normal case (172).jpg', 'Normal case (1).jpg', 'Normal case (199).jpg', 'Normal case (88).jpg', 'Normal case (3).jpg', 'Normal case (175).jpg', 'Normal case (315).jpg', 'Normal case (64).jpg', 'Normal case (106).jpg', 'Normal case (124).jpg', 'Normal case (61).jpg', 'Normal case (305).jpg', 'Normal case (243).jpg', 'Normal case (349).jpg', 'Normal case (262).jpg', 'Normal case (194).jpg', 'Normal case (408).jpg', 'Normal case (187).jpg', 'Normal case (211).jpg', 'Normal case (148).jpg', 'Normal case (33).jpg', 'Normal case (165).jpg', 'Normal case (382).jpg', 'Normal case (87).jpg', 'Normal case (255).jpg', 'Normal case (364).jpg', 'Normal case (323).jpg', 'Normal case (234).jpg', 'Normal case (341).jpg', 'Normal case (292).jpg', 'Normal case (254).jpg', 'Normal case (223).jpg', 'Normal case (163).jpg', 'Normal case (296).jpg', 'Normal case (275).jpg', 'Normal case (130).jpg', 'Normal case (300).jpg', 'Normal case (330).jpg', 'Normal case (308).jpg', 'Normal case (312).jpg', 'Normal case (174).jpg', 'Normal case (242).jpg', 'Normal case (6).jpg', 'Normal case (405).jpg', 'Normal case (50).jpg', 'Normal case (396).jpg', 'Normal case (347).jpg', 'Normal case (146).jpg', 'Normal case (207).jpg', 'Normal case (34).jpg', 'Normal case (260).jpg', 'Normal case (324).jpg', 'Normal case (229).jpg', 'Normal case (355).jpg', 'Normal case (115).jpg', 'Normal case (326).jpg', 'Normal case (247).jpg', 'Normal case (202).jpg', 'Normal case (389).jpg', 'Normal case (70).jpg', 'Normal case (214).jpg', 'Normal case (397).jpg', 'Normal case (344).jpg', 'Normal case (274).jpg', 'Normal case (373).jpg', 'Normal case (235).jpg', 'Normal case (200).jpg', 'Normal case (249).jpg', 'Normal case (127).jpg', 'Normal case (201).jpg', 'Normal case (192).jpg', 'Normal case (144).jpg', 'Normal case (24).jpg', 'Normal case (363).jpg', 'Normal case (393).jpg', 'Normal case (161).jpg', 'Normal case (22).jpg', 'Normal case (410).jpg', 'Normal case (190).jpg', 'Normal case (291).jpg', 'Normal case (266).jpg', 'Normal case (379).jpg', 'Normal case (362).jpg', 'Normal case (86).jpg', 'Normal case (125).jpg', 'Normal case (93).jpg', 'Normal case (7).jpg', 'Normal case (158).jpg', 'Normal case (17).jpg', 'Normal case (46).jpg', 'Normal case (295).jpg', 'Normal case (327).jpg', 'Normal case (162).jpg', 'Normal case (204).jpg', 'Normal case (137).jpg', 'Normal case (398).jpg', 'Normal case (26).jpg', 'Normal case (107).jpg', 'Normal case (135).jpg', 'Normal case (302).jpg', 'Normal case (25).jpg', 'Normal case (342).jpg', 'Normal case (225).jpg', 'Normal case (407).jpg', 'Normal case (383).jpg', 'Normal case (177).jpg', 'Normal case (412).jpg', 'Normal case (374).jpg', 'Normal case (95).jpg', 'Normal case (213).jpg', 'Normal case (209).jpg', 'Normal case (399).jpg', 'Normal case (261).jpg', 'Normal case (228).jpg', 'Normal case (68).jpg', 'Normal case (182).jpg', 'Normal case (317).jpg', 'Normal case (41).jpg', 'Normal case (31).jpg', 'Normal case (287).jpg', 'Normal case (401).jpg', 'Normal case (304).jpg', 'Normal case (178).jpg', 'Normal case (154).jpg', 'Normal case (403).jpg', 'Normal case (224).jpg', 'Normal case (336).jpg', 'Normal case (409).jpg', 'Normal case (217).jpg', 'Normal case (205).jpg', 'Normal case (141).jpg', 'Normal case (108).jpg', 'Normal case (329).jpg', 'Normal case (267).jpg', 'Normal case (98).jpg', 'Normal case (416).jpg', 'Normal case (297).jpg', 'Normal case (67).jpg', 'Normal case (142).jpg', 'Normal case (170).jpg', 'Normal case (73).jpg', 'Normal case (42).jpg', 'Normal case (48).jpg', 'Normal case (132).jpg', 'Normal case (97).jpg', 'Normal case (210).jpg', 'Normal case (10).jpg', 'Normal case (54).jpg', 'Normal case (77).jpg', 'Normal case (173).jpg', 'Normal case (411).jpg', 'Normal case (168).jpg', 'Normal case (60).jpg', 'Normal case (294).jpg', 'Normal case (371).jpg', 'Normal case (164).jpg', 'Normal case (78).jpg', 'Normal case (167).jpg', 'Normal case (369).jpg', 'Normal case (52).jpg', 'Normal case (119).jpg', 'Normal case (380).jpg', 'Normal case (339).jpg', 'Normal case (29).jpg', 'Normal case (197).jpg', 'Normal case (117).jpg', 'Normal case (184).jpg', 'Normal case (30).jpg', 'Normal case (140).jpg', 'Normal case (166).jpg', 'Normal case (203).jpg', 'Normal case (71).jpg', 'Normal case (89).jpg', 'Normal case (310).jpg', 'Normal case (40).jpg', 'Normal case (28).jpg', 'Normal case (21).jpg', 'Normal case (248).jpg', 'Normal case (72).jpg', 'Normal case (345).jpg', 'Normal case (289).jpg', 'Normal case (65).jpg', 'Normal case (293).jpg', 'Normal case (359).jpg', 'Normal case (43).jpg', 'Normal case (239).jpg', 'Normal case (303).jpg', 'Normal case (263).jpg', 'Normal case (100).jpg', 'Normal case (156).jpg', 'Normal case (368).jpg', 'Normal case (370).jpg', 'Normal case (151).jpg', 'Normal case (269).jpg', 'Normal case (4).jpg', 'Normal case (372).jpg', 'Normal case (354).jpg', 'Normal case (94).jpg', 'Normal case (126).jpg', 'Normal case (276).jpg', 'Normal case (286).jpg', 'Normal case (350).jpg', 'Normal case (358).jpg', 'Normal case (258).jpg', 'Normal case (18).jpg', 'Normal case (384).jpg', 'Normal case (236).jpg', 'Normal case (181).jpg', 'Normal case (356).jpg', 'Normal case (150).jpg', 'Normal case (285).jpg', 'Normal case (219).jpg', 'Normal case (400).jpg', 'Normal case (145).jpg', 'Normal case (59).jpg', 'Normal case (386).jpg', 'Normal case (157).jpg', 'Normal case (333).jpg', 'Normal case (45).jpg', 'Normal case (252).jpg', 'Normal case (20).jpg', 'Normal case (123).jpg', 'Normal case (284).jpg', 'Normal case (96).jpg', 'Normal case (221).jpg', 'Normal case (76).jpg', 'Normal case (121).jpg', 'Normal case (265).jpg', 'Normal case (250).jpg', 'Normal case (366).jpg', 'Normal case (134).jpg', 'Normal case (49).jpg', 'Normal case (325).jpg', 'Normal case (290).jpg', 'Normal case (180).jpg', 'Normal case (160).jpg', 'Normal case (246).jpg', 'Normal case (35).jpg', 'Normal case (415).jpg', 'Normal case (301).jpg', 'Normal case (220).jpg', 'Normal case (2).jpg', 'Normal case (191).jpg', 'Normal case (245).jpg', 'Normal case (120).jpg', 'Normal case (322).jpg', 'Normal case (198).jpg', 'Normal case (131).jpg', 'Normal case (58).jpg', 'Normal case (394).jpg', 'Normal case (111).jpg', 'Normal case (12).jpg', 'Normal case (51).jpg', 'Normal case (143).jpg', 'Normal case (39).jpg', 'Normal case (395).jpg', 'Normal case (381).jpg', 'Normal case (232).jpg', 'Normal case (271).jpg', 'Normal case (185).jpg', 'Normal case (91).jpg', 'Normal case (279).jpg', 'Normal case (69).jpg', 'Normal case (270).jpg', 'Normal case (169).jpg', 'Normal case (92).jpg', 'Normal case (365).jpg', 'Normal case (37).jpg', 'Normal case (112).jpg', 'Normal case (80).jpg', 'Normal case (378).jpg', 'Normal case (159).jpg', 'Normal case (280).jpg', 'Normal case (392).jpg', 'Normal case (328).jpg', 'Normal case (104).jpg', 'Normal case (14).jpg', 'Normal case (231).jpg', 'Normal case (44).jpg', 'Normal case (179).jpg', 'Normal case (259).jpg', 'Normal case (414).jpg', 'Normal case (222).jpg', 'Normal case (110).jpg', 'Normal case (193).jpg', 'Normal case (388).jpg', 'Normal case (340).jpg', 'Normal case (133).jpg', 'Normal case (8).jpg', 'Normal case (15).jpg', 'Normal case (109).jpg', 'Normal case (238).jpg', 'Normal case (53).jpg', 'Normal case (244).jpg', 'Normal case (237).jpg', 'Normal case (334).jpg', 'Normal case (351).jpg', 'Normal case (138).jpg', 'Normal case (357).jpg', 'Normal case (226).jpg', 'Normal case (306).jpg', 'Normal case (391).jpg', 'Normal case (206).jpg', 'Normal case (23).jpg', 'Normal case (57).jpg', 'Normal case (55).jpg', 'Normal case (128).jpg', 'Normal case (176).jpg', 'Normal case (241).jpg', 'Normal case (99).jpg', 'Normal case (215).jpg', 'Normal case (16).jpg', 'Normal case (56).jpg', 'Normal case (281).jpg', 'Normal case (319).jpg', 'Normal case (318).jpg', 'Normal case (375).jpg', 'Normal case (272).jpg', 'Normal case (83).jpg', 'Normal case (102).jpg', 'Normal case (47).jpg', 'Normal case (367).jpg', 'Normal case (38).jpg', 'Normal case (103).jpg', 'Normal case (113).jpg', 'Normal case (27).jpg', 'Normal case (82).jpg', 'Normal case (81).jpg', 'Normal case (171).jpg', 'Normal case (233).jpg', 'Normal case (321).jpg', 'Normal case (402).jpg', 'Normal case (147).jpg', 'Normal case (253).jpg', 'Normal case (278).jpg', 'Normal case (11).jpg', 'Normal case (153).jpg', 'Normal case (136).jpg', 'Normal case (13).jpg', 'Normal case (216).jpg', 'Normal case (413).jpg', 'Normal case (307).jpg', 'Normal case (79).jpg', 'Normal case (288).jpg', 'Normal case (348).jpg', 'Normal case (208).jpg', 'Normal case (264).jpg', 'Normal case (101).jpg', 'Normal case (152).jpg', 'Normal case (19).jpg', 'Normal case (62).jpg', 'Normal case (335).jpg', 'Normal case (316).jpg', 'Normal case (343).jpg', 'Normal case (188).jpg', 'Normal case (122).jpg', 'Normal case (268).jpg', 'Normal case (63).jpg', 'Normal case (85).jpg', 'Normal case (129).jpg', 'Normal case (385).jpg', 'Normal case (352).jpg', 'Normal case (155).jpg', 'Normal case (118).jpg', 'Normal case (282).jpg', 'Normal case (32).jpg', 'Normal case (189).jpg', 'Normal case (74).jpg', 'Normal case (139).jpg', 'Normal case (337).jpg', 'Normal case (183).jpg', 'Normal case (353).jpg', 'Normal case (387).jpg', 'Normal case (406).jpg', 'Normal case (360).jpg', 'Normal case (257).jpg', 'Normal case (116).jpg', 'Normal case (273).jpg', 'Normal case (251).jpg', 'Normal case (404).jpg', 'Normal case (283).jpg', 'Normal case (186).jpg', 'Normal case (9).jpg']\n",
            "Benign folder contents: ['Bengin case (90).jpg', 'Bengin case (42).jpg', 'Bengin case (96).jpg', 'Bengin case (69).jpg', 'Bengin case (13).jpg', 'Bengin case (53).jpg', 'Bengin case (49).jpg', 'Bengin case (61).jpg', 'Bengin case (87).jpg', 'Bengin case (117).jpg', 'Bengin case (112).jpg', 'Bengin case (50).jpg', 'Bengin case (40).jpg', 'Bengin case (98).jpg', 'Bengin case (34).jpg', 'Bengin case (6).jpg', 'Bengin case (21).jpg', 'Bengin case (33).jpg', 'Bengin case (41).jpg', 'Bengin case (19).jpg', 'Bengin case (119).jpg', 'Bengin case (56).jpg', 'Bengin case (64).jpg', 'Bengin case (32).jpg', 'Bengin case (55).jpg', 'Bengin case (81).jpg', 'Bengin case (65).jpg', 'Bengin case (105).jpg', 'Bengin case (23).jpg', 'Bengin case (83).jpg', 'Bengin case (16).jpg', 'Bengin case (26).jpg', 'Bengin case (76).jpg', 'Bengin case (66).jpg', 'Bengin case (88).jpg', 'Bengin case (31).jpg', 'Bengin case (118).jpg', 'Bengin case (106).jpg', 'Bengin case (84).jpg', 'Bengin case (113).jpg', 'Bengin case (35).jpg', 'Bengin case (63).jpg', 'Bengin case (10).jpg', 'Bengin case (92).jpg', 'Bengin case (48).jpg', 'Bengin case (93).jpg', 'Bengin case (25).jpg', 'Bengin case (12).jpg', 'Bengin case (36).jpg', 'Bengin case (2).jpg', 'Bengin case (30).jpg', 'Bengin case (4).jpg', 'Bengin case (115).jpg', 'Bengin case (102).jpg', 'Bengin case (37).jpg', 'Bengin case (74).jpg', 'Bengin case (95).jpg', 'Bengin case (62).jpg', 'Bengin case (8).jpg', 'Bengin case (78).jpg', 'Bengin case (91).jpg', 'Bengin case (9).jpg', 'Bengin case (14).jpg', 'Bengin case (68).jpg', 'Bengin case (73).jpg', 'Bengin case (59).jpg', 'Bengin case (52).jpg', 'Bengin case (47).jpg', 'Bengin case (46).jpg', 'Bengin case (3).jpg', 'Bengin case (15).jpg', 'Bengin case (57).jpg', 'Bengin case (80).jpg', 'Bengin case (104).jpg', 'Bengin case (1).jpg', 'Bengin case (20).jpg', 'Bengin case (97).jpg', 'Bengin case (7).jpg', 'Bengin case (82).jpg', 'Bengin case (22).jpg', 'Bengin case (89).jpg', 'Bengin case (18).jpg', 'Bengin case (5).jpg', 'Bengin case (103).jpg', 'Bengin case (51).jpg', 'Bengin case (116).jpg', 'Bengin case (17).jpg', 'Bengin case (54).jpg', 'Bengin case (60).jpg', 'Bengin case (58).jpg', 'Bengin case (94).jpg', 'Bengin case (28).jpg', 'Bengin case (38).jpg', 'Bengin case (70).jpg', 'Bengin case (120).jpg', 'Bengin case (27).jpg', 'Bengin case (77).jpg', 'Bengin case (107).jpg', 'Bengin case (11).jpg', 'Bengin case (101).jpg', 'Bengin case (45).jpg', 'Bengin case (71).jpg', 'Bengin case (110).jpg', 'Bengin case (67).jpg', 'Bengin case (29).jpg', 'Bengin case (99).jpg', 'Bengin case (108).jpg', 'Bengin case (75).jpg', 'Bengin case (86).jpg', 'Bengin case (72).jpg', 'Bengin case (44).jpg', 'Bengin case (85).jpg', 'Bengin case (114).jpg', 'Bengin case (111).jpg', 'Bengin case (100).jpg', 'Bengin case (109).jpg', 'Bengin case (43).jpg', 'Bengin case (39).jpg', 'Bengin case (24).jpg', 'Bengin case (79).jpg']\n"
          ]
        }
      ]
    },
    {
      "cell_type": "code",
      "source": [
        "import os\n",
        "import shutil\n",
        "from sklearn.model_selection import train_test_split\n",
        "\n",
        "\n",
        "input_folder = '/content/lung_cancer_dataset/Lung Cancer Dataset'\n",
        "\n",
        "output_folder = '/content/lung_cancer_split'\n",
        "os.makedirs(output_folder, exist_ok=True)\n",
        "\n",
        "\n",
        "for split in ['train', 'val', 'test']:\n",
        "    for category in ['Normal cases', 'Bengin cases']:\n",
        "        os.makedirs(os.path.join(output_folder, split, category), exist_ok=True)\n",
        "\n",
        "\n",
        "def split_and_copy_images(category):\n",
        "\n",
        "    category_folder = os.path.join(input_folder, category)\n",
        "    image_paths = [os.path.join(category_folder, img) for img in os.listdir(category_folder) if img.endswith(('.jpg', '.jpeg', '.png'))]\n",
        "\n",
        "\n",
        "    train_paths, test_paths = train_test_split(image_paths, test_size=0.3)\n",
        "    val_paths, test_paths = train_test_split(test_paths, test_size=0.5)\n",
        "\n",
        "\n",
        "    for split, paths in zip(['train', 'val', 'test'], [train_paths, val_paths, test_paths]):\n",
        "        for img_path in paths:\n",
        "            shutil.copy(img_path, os.path.join(output_folder, split, category))\n",
        "\n",
        "\n",
        "for category in ['Normal cases', 'Bengin cases']:\n",
        "    split_and_copy_images(category)\n",
        "\n",
        "print(\"Dataset split and copied successfully.\")\n"
      ],
      "metadata": {
        "colab": {
          "base_uri": "https://localhost:8080/"
        },
        "id": "ELNwA5ZUEmbW",
        "outputId": "f162fd4b-fd2a-402f-9e47-ce6d6deae9e8"
      },
      "execution_count": 10,
      "outputs": [
        {
          "output_type": "stream",
          "name": "stdout",
          "text": [
            "Dataset split and copied successfully.\n"
          ]
        }
      ]
    },
    {
      "cell_type": "code",
      "source": [
        "for split in ['train', 'val', 'test']:\n",
        "    for category in ['Normal cases', 'Bengin cases']:\n",
        "        path = os.path.join(output_folder, split, category)\n",
        "        print(f\"{split} - {category}: {len(os.listdir(path))} images\")\n"
      ],
      "metadata": {
        "colab": {
          "base_uri": "https://localhost:8080/"
        },
        "id": "YawBcmepFHMd",
        "outputId": "68c98d23-b5a0-47a6-aa28-ef5abca0ea03"
      },
      "execution_count": 12,
      "outputs": [
        {
          "output_type": "stream",
          "name": "stdout",
          "text": [
            "train - Normal cases: 291 images\n",
            "train - Bengin cases: 84 images\n",
            "val - Normal cases: 62 images\n",
            "val - Bengin cases: 18 images\n",
            "test - Normal cases: 63 images\n",
            "test - Bengin cases: 18 images\n"
          ]
        }
      ]
    },
    {
      "cell_type": "code",
      "source": [
        "import os\n",
        "import cv2\n",
        "import numpy as np\n",
        "from sklearn.model_selection import train_test_split\n",
        "from sklearn.preprocessing import LabelEncoder\n",
        "\n",
        "\n",
        "def load_images_from_folder(folder, image_size=(64, 64)):\n",
        "    images = []\n",
        "    labels = []\n",
        "    for label in os.listdir(folder):\n",
        "        category_folder = os.path.join(folder, label)\n",
        "        if os.path.isdir(category_folder):\n",
        "            for img_name in os.listdir(category_folder):\n",
        "                img_path = os.path.join(category_folder, img_name)\n",
        "                img = cv2.imread(img_path, cv2.IMREAD_COLOR)\n",
        "                img = cv2.resize(img, image_size)\n",
        "                img = img.flatten()\n",
        "                images.append(img)\n",
        "                labels.append(label)\n",
        "    return np.array(images), np.array(labels)\n",
        "\n",
        "\n",
        "train_folder = '/content/lung_cancer_split/train'\n",
        "test_folder = '/content/lung_cancer_split/test'\n",
        "\n",
        "\n",
        "X_train, y_train = load_images_from_folder(train_folder)\n",
        "X_test, y_test = load_images_from_folder(test_folder)\n",
        "\n",
        "X_train = X_train / 255.0\n",
        "X_test = X_test / 255.0\n"
      ],
      "metadata": {
        "id": "Wkg9_I_DF1l_"
      },
      "execution_count": 14,
      "outputs": []
    },
    {
      "cell_type": "code",
      "source": [
        "\n",
        "label_encoder = LabelEncoder()\n",
        "y_train = label_encoder.fit_transform(y_train)\n",
        "y_test = label_encoder.transform(y_test)\n"
      ],
      "metadata": {
        "id": "6LLaADYmF9q7"
      },
      "execution_count": 15,
      "outputs": []
    },
    {
      "cell_type": "code",
      "source": [
        "from sklearn.svm import SVC\n",
        "from sklearn.metrics import accuracy_score, classification_report\n",
        "\n",
        "\n",
        "svm_model = SVC(kernel='rbf')\n",
        "svm_model.fit(X_train, y_train)\n",
        "\n",
        "\n",
        "y_pred = svm_model.predict(X_test)\n",
        "\n",
        "\n",
        "print(\"Accuracy:\", accuracy_score(y_test, y_pred))\n",
        "print(\"Classification Report:\\n\", classification_report(y_test, y_pred))\n"
      ],
      "metadata": {
        "colab": {
          "base_uri": "https://localhost:8080/"
        },
        "id": "fg2jY6nsGd5t",
        "outputId": "3697ad10-c252-44a7-be65-3a5e460ddc7d"
      },
      "execution_count": 30,
      "outputs": [
        {
          "output_type": "stream",
          "name": "stdout",
          "text": [
            "Accuracy: 0.9629629629629629\n",
            "Classification Report:\n",
            "               precision    recall  f1-score   support\n",
            "\n",
            "           0       1.00      0.83      0.91        18\n",
            "           1       0.95      1.00      0.98        63\n",
            "\n",
            "    accuracy                           0.96        81\n",
            "   macro avg       0.98      0.92      0.94        81\n",
            "weighted avg       0.96      0.96      0.96        81\n",
            "\n"
          ]
        }
      ]
    }
  ]
}